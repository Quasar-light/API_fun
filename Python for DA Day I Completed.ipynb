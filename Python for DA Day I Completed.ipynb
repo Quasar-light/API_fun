{
  "cells": [
    {
      "attachments": {},
      "cell_type": "markdown",
      "id": "7196054f",
      "metadata": {
        "id": "7196054f"
      },
      "source": [
        "# Coding Temple's Data Analytics Course\n",
        "---\n",
        "## Python for Data Analysis: Working with APIs and Web Scraping"
      ]
    },
    {
      "attachments": {},
      "cell_type": "markdown",
      "id": "d2d4a629",
      "metadata": {},
      "source": [
        "## What is an API?\n",
        "\n",
        "API stands for Application Programming Interface. API's are a way for two applications to communicate to one another and are commonly used to retrieve and send data using code. An API follows this format: ![](https://www.altexsoft.com/media/2019/06/1.png)\n",
        "\n",
        "\n",
        "The API exists with constant communication between the server and the internet. When we create our application, or the web app in browser, we make a requests to that API through the internet for information and the API responds with that data, if we are allowed to access it.\n",
        "\n",
        "Another way to think of it could be: \n",
        "\n",
        "![](https://images.ctfassets.net/wqwerb01q4v1/5KgFJ5hSoJqT5NPkfOI0Fb/2bf6e6d5776c91ce5f2cc6ca1eb40dd0/How_Do_APIs_Work_5.png)\n",
        "\n",
        "\n",
        "To talk to the API, we need to import a package called `requests` to handle the connection and communication for us. We also will want to import a package called `json` to work with the data that is returned by the API. "
      ]
    },
    {
      "cell_type": "code",
      "execution_count": null,
      "id": "4db9d154",
      "metadata": {
        "id": "4db9d154"
      },
      "outputs": [],
      "source": [
        "#import the packages we need:\n",
        "import requests, json"
      ]
    },
    {
      "cell_type": "code",
      "execution_count": null,
      "id": "b5a7ae30",
      "metadata": {},
      "outputs": [],
      "source": [
        "# What does requests do?\n",
        "help(requests)"
      ]
    },
    {
      "cell_type": "code",
      "execution_count": null,
      "id": "2b2f3df2",
      "metadata": {},
      "outputs": [],
      "source": [
        "# What does json do?\n",
        "help(json)"
      ]
    },
    {
      "attachments": {},
      "cell_type": "markdown",
      "id": "e8c2ce51",
      "metadata": {
        "id": "e8c2ce51"
      },
      "source": [
        "We will be connecting to the Ergast F1 Racer API today. You can look at the API docs here:\n",
        "http://ergast.com/mrd/\n",
        "\n"
      ]
    },
    {
      "cell_type": "code",
      "execution_count": null,
      "id": "52c440c6",
      "metadata": {
        "id": "52c440c6"
      },
      "outputs": [],
      "source": [
        "# help(requests)\n",
        "url = 'http://ergast.com/api/f1/2008/5/driverStandings.json'"
      ]
    },
    {
      "cell_type": "code",
      "execution_count": null,
      "id": "7b63a204",
      "metadata": {
        "id": "7b63a204"
      },
      "outputs": [],
      "source": [
        "#response object\n",
        "response = requests.get(url)\n",
        "print(response)"
      ]
    },
    {
      "cell_type": "code",
      "execution_count": null,
      "id": "c6d1fdaf",
      "metadata": {
        "id": "c6d1fdaf"
      },
      "outputs": [],
      "source": [
        "#check and make sure we got a successful response from the API\n",
        "response.ok"
      ]
    },
    {
      "cell_type": "code",
      "execution_count": null,
      "id": "ed4d3256",
      "metadata": {
        "id": "ed4d3256"
      },
      "outputs": [],
      "source": [
        "#view the response as a JSON\n",
        "response.json()"
      ]
    },
    {
      "cell_type": "code",
      "execution_count": null,
      "id": "92e6cd2c",
      "metadata": {
        "id": "92e6cd2c"
      },
      "outputs": [],
      "source": [
        "type(response.json())"
      ]
    },
    {
      "cell_type": "code",
      "execution_count": null,
      "id": "f074dfcf",
      "metadata": {
        "id": "f074dfcf"
      },
      "outputs": [],
      "source": [
        "# We only want the Driver Standings\n",
        "my_racer_data = response.json()['MRData']['StandingsTable']['StandingsLists'][0]['DriverStandings']\n",
        "my_racer_data"
      ]
    },
    {
      "cell_type": "code",
      "execution_count": null,
      "id": "be46a950",
      "metadata": {
        "id": "be46a950"
      },
      "outputs": [],
      "source": [
        "# What if I only wanted the driver's name?\n",
        "driver = [response.json()['MRData']['StandingsTable']['StandingsLists'][0]['DriverStandings'][x]['Driver']['familyName'] for x in range(len(my_racer_data))]\n",
        "driver"
      ]
    },
    {
      "cell_type": "code",
      "execution_count": null,
      "id": "3740c752",
      "metadata": {
        "id": "3740c752"
      },
      "outputs": [],
      "source": [
        "# Create a function to get racer info\n",
        "def get_racer_info(data):\n",
        "    \"\"\"\n",
        "    Input: response object from API\n",
        "    Takes the response and creates a dictionary containing the fields we want from the racer's information\n",
        "    Output: List object containing a dictionary for each racer in the response object\n",
        "    \"\"\"\n",
        "    new_data = []\n",
        "    for racer in data:\n",
        "        racer_dict={}\n",
        "        racer_name = f'{racer[\"Driver\"][\"givenName\"]} {racer[\"Driver\"][\"familyName\"]}'\n",
        "\n",
        "        racer_dict[racer_name] = {\n",
        "            'first_name' : racer['Driver']['givenName'],\n",
        "            'last_name' : racer['Driver']['familyName'],\n",
        "            'position' : racer['position'],\n",
        "            'wins' : racer['wins'],\n",
        "            'DOB' : racer['Driver']['dateOfBirth'],\n",
        "            'nationality' : racer['Driver']['nationality'],\n",
        "            'constructor' : racer['Constructors'][0]['name']\n",
        "        }\n",
        "        new_data.append(racer_dict)\n",
        "    return new_data\n",
        "\n",
        "get_racer_info(my_racer_data)"
      ]
    },
    {
      "cell_type": "markdown",
      "id": "97b4135a",
      "metadata": {},
      "source": [
        "## In-Class Exercise:\n",
        "\n",
        "Create a function that allows a user to see a specific year and round"
      ]
    },
    {
      "cell_type": "code",
      "execution_count": null,
      "id": "61b07f51",
      "metadata": {},
      "outputs": [],
      "source": [
        "# Create a function that allows a user to see a specific year and round\n",
        "def get_driver_info_by_year_and_round(year:int, r:int):\n",
        "    \"\"\"\n",
        "    Input: Year -> int, r(round) -> int\n",
        "    How it works: Use the input variables to grab a response object from the API for the year and round that is specified by the user.\n",
        "    Takes the response object and inputs it into the get_racer_info function\n",
        "    Output: List object containing the dictionary for each racer in the response object\n",
        "    \"\"\"\n",
        "\n",
        "    # Step 1: Edit the URL to include year and round\n",
        "    url = f'http://ergast.com/api/f1/{year}/{r}/driverStandings.json'\n",
        "    # Step 2: Create a response object using the requests library\n",
        "    response = requests.get(url)\n",
        "\n",
        "    # I am going to set up a base case. What if the round or year is not in the API object?\n",
        "    if not response.json()['MRData']['StandingsTable']['StandingsLists']:\n",
        "        return 'We had an error loading your data. It is likely that the year or round is not present in the API object'\n",
        "\n",
        "    data = response.json()['MRData']['StandingsTable']['StandingsLists'][0]['DriverStandings']\n",
        "    return get_racer_info(data)\n",
        "\n",
        "get_driver_info_by_year_and_round(2025,5)"
      ]
    },
    {
      "cell_type": "markdown",
      "id": "2e0c7e6e",
      "metadata": {},
      "source": [
        "## API's Part 2: Connecting to an API and returning an image"
      ]
    },
    {
      "cell_type": "markdown",
      "id": "a0a86a7d",
      "metadata": {},
      "source": [
        "### Imports"
      ]
    },
    {
      "cell_type": "code",
      "execution_count": null,
      "id": "91939f0b",
      "metadata": {},
      "outputs": [],
      "source": [
        "import requests\n",
        "import pandas as pd\n",
        "from PIL import Image\n",
        "from io import BytesIO"
      ]
    },
    {
      "cell_type": "markdown",
      "id": "e9312d53",
      "metadata": {},
      "source": [
        "### Connect to the API"
      ]
    },
    {
      "cell_type": "code",
      "execution_count": null,
      "id": "0aa8d3a0",
      "metadata": {},
      "outputs": [],
      "source": [
        "api_url = 'https://api.scryfall.com/bulk-data'\n",
        "\n",
        "response = requests.get(api_url)\n",
        "\n",
        "return_frame = pd.DataFrame.from_dict(requests.get((pd.DataFrame.from_dict(response.json()['data'])['download_uri']\n",
        "                                                    [pd.DataFrame.from_dict(response.json()['data'])['type'] == 'oracle_cards'][0])).json())"
      ]
    },
    {
      "cell_type": "code",
      "execution_count": null,
      "id": "1acc1392",
      "metadata": {},
      "outputs": [],
      "source": [
        "return_frame"
      ]
    },
    {
      "cell_type": "markdown",
      "id": "1f350eb8",
      "metadata": {},
      "source": [
        "### Return an Image object"
      ]
    },
    {
      "cell_type": "code",
      "execution_count": null,
      "id": "a4b2318d",
      "metadata": {},
      "outputs": [],
      "source": [
        "img_str = return_frame['image_uris'][return_frame['name'] == 'Static Orb'][0]['normal']\n",
        "img_str"
      ]
    },
    {
      "cell_type": "code",
      "execution_count": null,
      "id": "966d07ee",
      "metadata": {},
      "outputs": [],
      "source": [
        "# Step 1: Get a response object using requests.get()\n",
        "response = requests.get(img_str)\n",
        "\n",
        "# Step 2 Use the PIL and BytesIO to open the image in Python!\n",
        "img = Image.open(BytesIO(response.content))\n",
        "img"
      ]
    },
    {
      "cell_type": "code",
      "execution_count": null,
      "id": "1a310de4",
      "metadata": {},
      "outputs": [],
      "source": [
        "# Install Beautiful Soup\n",
        "!python -m pip install beautifulsoup4"
      ]
    },
    {
      "attachments": {},
      "cell_type": "markdown",
      "id": "3d0e69f8",
      "metadata": {},
      "source": [
        "## Beautiful Soup"
      ]
    },
    {
      "attachments": {},
      "cell_type": "markdown",
      "id": "9aae4453",
      "metadata": {},
      "source": [
        "### Using Requests"
      ]
    },
    {
      "cell_type": "code",
      "execution_count": null,
      "id": "6310bb03",
      "metadata": {},
      "outputs": [],
      "source": [
        "# Connect to URL\n",
        "page = requests.get('https://www.cs.cmu.edu/~rgs/alice-VII.html')"
      ]
    },
    {
      "cell_type": "code",
      "execution_count": null,
      "id": "073337ce",
      "metadata": {},
      "outputs": [],
      "source": [
        "# display result response\n",
        "page"
      ]
    },
    {
      "attachments": {},
      "cell_type": "markdown",
      "id": "ba38f1e5",
      "metadata": {},
      "source": [
        "#### .content()"
      ]
    },
    {
      "cell_type": "code",
      "execution_count": null,
      "id": "8b71f6b3",
      "metadata": {},
      "outputs": [],
      "source": [
        "# Check Status of request response\n",
        "page.text"
      ]
    },
    {
      "attachments": {},
      "cell_type": "markdown",
      "id": "74f6c2bc",
      "metadata": {},
      "source": [
        "### Importing"
      ]
    },
    {
      "cell_type": "code",
      "execution_count": null,
      "id": "1f1079da",
      "metadata": {},
      "outputs": [],
      "source": [
        "from bs4 import BeautifulSoup"
      ]
    },
    {
      "attachments": {},
      "cell_type": "markdown",
      "id": "768ea150",
      "metadata": {},
      "source": [
        "### Using Beautiful Soup"
      ]
    },
    {
      "cell_type": "code",
      "execution_count": null,
      "id": "73515a3c",
      "metadata": {},
      "outputs": [],
      "source": [
        "# Instantiate BeautifulSoup class\n",
        "soup = BeautifulSoup(page.content, 'html.parser')\n",
        "\n",
        "soup"
      ]
    },
    {
      "attachments": {},
      "cell_type": "markdown",
      "id": "7a43e743",
      "metadata": {},
      "source": [
        "### .prettify()"
      ]
    },
    {
      "cell_type": "code",
      "execution_count": null,
      "id": "83ef6a6b",
      "metadata": {},
      "outputs": [],
      "source": [
        "#NOTE: Prettify only works for the full document and the .find() method\n",
        "print(soup.prettify())"
      ]
    },
    {
      "attachments": {},
      "cell_type": "markdown",
      "id": "23958ca9",
      "metadata": {},
      "source": [
        "### Converting to a List"
      ]
    },
    {
      "cell_type": "code",
      "execution_count": null,
      "id": "0cd52f1e",
      "metadata": {},
      "outputs": [],
      "source": [
        "# Tags may contain strings and other tags. These elements are the tag’s children.\n",
        "print(list(soup.children))\n",
        "print(f'Count of children: {len(list(soup.children))}')"
      ]
    },
    {
      "attachments": {},
      "cell_type": "markdown",
      "id": "c3851d64",
      "metadata": {},
      "source": [
        "### Extracting Beautiful Soup Elements"
      ]
    },
    {
      "cell_type": "code",
      "execution_count": null,
      "id": "f67ec19f",
      "metadata": {},
      "outputs": [],
      "source": [
        "# We can traverse through an HTML page and extract other tags and text\n",
        "# The below example shows the types of iterables available in the object created from the HTML Document\n",
        "# .Tag allows us to dive deeper into the document i.e we can look for HTML attributes like .class and if needed go deeper into the document from there\n",
        "[type(item) for item in list(soup.children)]"
      ]
    },
    {
      "attachments": {},
      "cell_type": "markdown",
      "id": "ce4de137",
      "metadata": {},
      "source": [
        "### Assinging Variables from Beautiful Soup"
      ]
    },
    {
      "cell_type": "code",
      "execution_count": null,
      "id": "547cdf62",
      "metadata": {},
      "outputs": [],
      "source": [
        "import pprint\n",
        "\n",
        "html = list(soup.children)[0] # Selecting the HTML element child from the soup object\n",
        "body = list(html.children)[3] # Selecting the body element from the HTML child\n",
        "center = list(body.children)[2]\n",
        "table = list(center.children)[5]\n",
        "table.prettify()"
      ]
    },
    {
      "attachments": {},
      "cell_type": "markdown",
      "id": "f3e5fc06",
      "metadata": {},
      "source": [
        "### .find() <br>\n",
        "<p>Find a specific instance of the parameter passed in</p>"
      ]
    },
    {
      "cell_type": "code",
      "execution_count": null,
      "id": "f6a37705",
      "metadata": {},
      "outputs": [],
      "source": [
        "table.find('b')"
      ]
    },
    {
      "attachments": {},
      "cell_type": "markdown",
      "id": "9f28aa4d",
      "metadata": {},
      "source": [
        "### .find_all() <br>\n",
        "<p>Similar to .find(), except this will return all of them instead of one</p>"
      ]
    },
    {
      "cell_type": "code",
      "execution_count": null,
      "id": "b28fc0f4",
      "metadata": {},
      "outputs": [],
      "source": [
        "text_corpus = []\n",
        "\n",
        "for node in table.find_all('b'):\n",
        "    text_corpus.append(node.get_text())\n",
        "    \n",
        "text_corpus"
      ]
    },
    {
      "attachments": {},
      "cell_type": "markdown",
      "id": "f7cec682",
      "metadata": {},
      "source": [
        "## Exercise <br>\n",
        "<p>Using the Beautiful Soup library, grab the data from the following link: https://www.nbastuffer.com/2019-2020-nba-player-stats/. After getting the data, display the players name and team inside of a pandas dataframe.</p>"
      ]
    },
    {
      "cell_type": "code",
      "execution_count": null,
      "id": "95519ff6",
      "metadata": {},
      "outputs": [],
      "source": [
        "# Step 1: Imports\n",
        "import pandas as pd\n",
        "\n",
        "# Step 2: Create a request object using the .get(<url>) method on the url\n",
        "page_nba = requests.get('https://www.nbastuffer.com/2019-2020-nba-player-stats/')\n",
        "\n",
        "# Step 3: We are going to make some soup!\n",
        "# Using the BeautifulSoup class, we can take the text of the page and parse it with an HTML parser\n",
        "# Parsing means we will read over the page\n",
        "soup = BeautifulSoup(page_nba.text, 'html.parser')\n",
        "\n",
        "# Now that we have the data, we can begin working with it!\n",
        "# Step 4: Instantiate two empty list objects to hold the names and teams of each player:\n",
        "names = []\n",
        "teams = []\n",
        "\n",
        "# Step 5a: Iterate through the document, and get the info we need\n",
        "# We can use a find_all to create an iterable >soup.find_all(>tag<)< tag = 'tr'\n",
        "# We can then append each value for name and team to their respective lists using indexing\n",
        "# We can verity by printing and exploring the find_all BEFORE adding it to a list\n",
        "# print(soup.find_all('tr'))\n",
        "for node in soup.find_all('tr'):\n",
        "    names.append(node.find_all(string=True)[1])\n",
        "    teams.append(node.find_all(string=True)[2])\n",
        "    \n",
        "# Step 5b: Remove the column titles from the list of values\n",
        "names.pop(0)\n",
        "teams.pop(0)\n",
        "\n",
        "# Step 6: Create a dataframe object from a dictionary using the two lists that we created above!\n",
        "player_data = pd.DataFrame.from_dict({\n",
        "    'player_name' : names,\n",
        "    'team' : teams\n",
        "})\n",
        "\n",
        "# View the data\n",
        "player_data"
      ]
    },
    {
      "attachments": {},
      "cell_type": "markdown",
      "id": "681b2385",
      "metadata": {},
      "source": [
        "# Bonus Example: Pulling Vegas Odds from PFR.com\n",
        "\n",
        "<h3> Use this example for further reference</h3>\n",
        "<p> This is an example that shows what we will get returned back to us when accessing a HTML document with Beautiful Soup</p>"
      ]
    },
    {
      "cell_type": "code",
      "execution_count": null,
      "id": "cd8c58e7",
      "metadata": {},
      "outputs": [],
      "source": [
        "page = requests.get('https://www.pro-football-reference.com/boxscores/201810140nwe.htm')\n",
        "# print(page.status_code)\n",
        "\n",
        "soup = BeautifulSoup(page.content, 'html.parser')"
      ]
    },
    {
      "cell_type": "code",
      "execution_count": null,
      "id": "92968a1f",
      "metadata": {},
      "outputs": [],
      "source": [
        "print(soup.prettify())"
      ]
    },
    {
      "cell_type": "code",
      "execution_count": null,
      "id": "47f4fa21",
      "metadata": {},
      "outputs": [],
      "source": [
        "for section in list(soup.children):\n",
        "    print(section)\n",
        "    print('1\\n2\\n3\\n')"
      ]
    },
    {
      "cell_type": "code",
      "execution_count": null,
      "id": "ce7e83d7",
      "metadata": {},
      "outputs": [],
      "source": [
        "html = list(soup.children)[3]\n",
        "\n",
        "html"
      ]
    },
    {
      "cell_type": "code",
      "execution_count": null,
      "id": "ce0ff898",
      "metadata": {},
      "outputs": [],
      "source": [
        "body = list(html.children)[3]\n",
        "\n",
        "for el in list(body.children):\n",
        "    print(el)\n",
        "    print('\\n\\n\\n\\n123\\n\\n\\n\\n')"
      ]
    },
    {
      "cell_type": "code",
      "execution_count": null,
      "id": "73ff0633",
      "metadata": {},
      "outputs": [],
      "source": [
        "table = body.find_all('div')\n",
        "\n",
        "print(table)"
      ]
    },
    {
      "cell_type": "code",
      "execution_count": null,
      "id": "d77259e4",
      "metadata": {},
      "outputs": [],
      "source": [
        "from bs4 import Comment\n",
        "\n",
        "comments=soup.find_all(string=lambda text:isinstance(text,Comment))\n",
        "\n",
        "for comment in comments:\n",
        "    comment=BeautifulSoup(str(comment))\n",
        "    log = comment.find('table', {'id':'game_info'}) #search as ordinary tag\n",
        "    if log:\n",
        "        print(log)"
      ]
    },
    {
      "cell_type": "code",
      "execution_count": null,
      "id": "04b65348",
      "metadata": {},
      "outputs": [],
      "source": [
        "response = requests.get('https://pokeapi.co/api/v2/pokemon?limit=100000&offset=0')\n",
        "new_data = []\n",
        "for object in response.json()['results']:\n",
        "    new_data.append(requests.get(object['url']).json())\n",
        "    \n",
        "new_data"
      ]
    },
    {
      "cell_type": "code",
      "execution_count": null,
      "id": "679051f4",
      "metadata": {},
      "outputs": [],
      "source": [
        "import requests\n",
        "from PIL import Image\n",
        "from io import BytesIO"
      ]
    },
    {
      "cell_type": "code",
      "execution_count": null,
      "id": "29cfd21e",
      "metadata": {},
      "outputs": [],
      "source": [
        "requests.get('https://pokeapi.co/api/v2/pokemon/ditto').json()"
      ]
    },
    {
      "cell_type": "code",
      "execution_count": null,
      "id": "44ac1d59",
      "metadata": {},
      "outputs": [],
      "source": [
        "Image.open(BytesIO(requests.get(\"https://raw.githubusercontent.com/PokeAPI/sprites/master/sprites/pokemon/shiny/132.png\").content))\n"
      ]
    },
    {
      "cell_type": "code",
      "execution_count": null,
      "id": "6b1cfb8e",
      "metadata": {},
      "outputs": [],
      "source": [
        "def return_img(con_str:str):\n",
        "    return Image.open(BytesIO(requests.get(con_str).content))\n",
        "\n",
        "return_img(\n",
        "    'https://raw.githubusercontent.com/PokeAPI/sprites/master/sprites/pokemon/shiny/132.png'\n",
        ")"
      ]
    },
    {
      "cell_type": "code",
      "execution_count": null,
      "id": "ceb5e61a",
      "metadata": {},
      "outputs": [],
      "source": [
        "def get_pokemon(pokemon_name:str):\n",
        "    return requests.get(f'https://pokeapi.co/api/v2/pokemon/{pokemon_name.lower()}').json()\n",
        "for x in range(1,3):\n",
        "    print(get_pokemon(str(x)))"
      ]
    },
    {
      "cell_type": "code",
      "execution_count": null,
      "id": "424e1f65",
      "metadata": {},
      "outputs": [],
      "source": [
        "Image.open(BytesIO(requests.get(requests.get('https://pokeapi.co/api/v2/pokemon/ditto').json()['sprites']['front_shiny']).content))\n"
      ]
    },
    {
      "cell_type": "code",
      "execution_count": null,
      "id": "06143eb9",
      "metadata": {},
      "outputs": [],
      "source": [
        "requests.get('https://pokeapi.co/api/v2/pokemon/ditto').json()['sprites']['front_shiny']\n"
      ]
    },
    {
      "cell_type": "code",
      "execution_count": null,
      "id": "619b1535",
      "metadata": {},
      "outputs": [],
      "source": [
        "pokemon = []\n",
        "for x in range(1,100):\n",
        "    url = f\"https://pokeapi.co/api/v2/pokemon/{x}/\"\n",
        "    pokemon.append(requests.get(url).json())"
      ]
    },
    {
      "cell_type": "code",
      "execution_count": null,
      "id": "f30e3247",
      "metadata": {},
      "outputs": [],
      "source": [
        "def get_poke_api(poke_name:str):\n",
        "    data = requests.get(f'https://pokeapi.co/api/v2/pokemon/{poke_name}').json()\n",
        "    d = {}\n",
        "    d[poke_name] = {\n",
        "        'name': data['name'],\n",
        "        'ability': data['abilities'][0]['ability']['name']\n",
        "    }\n",
        "    return d\n",
        "\n",
        "\n",
        "poke_names = ['ditto', 'bulbasaur', 'charmander', 'squirtle']\n",
        "poke_data = []\n",
        "for name in poke_names:\n",
        "    poke_data.append(get_poke_api(name))\n",
        "poke_data"
      ]
    },
    {
      "cell_type": "code",
      "execution_count": null,
      "id": "abb769fe",
      "metadata": {},
      "outputs": [],
      "source": [
        "requests.get('https://pokeapi.co/api/v2/type/ground/').json()\n"
      ]
    }
  ],
  "metadata": {
    "colab": {
      "provenance": []
    },
    "kernelspec": {
      "display_name": "Python 3",
      "language": "python",
      "name": "python3"
    },
    "language_info": {
      "codemirror_mode": {
        "name": "ipython",
        "version": 3
      },
      "file_extension": ".py",
      "mimetype": "text/x-python",
      "name": "python",
      "nbconvert_exporter": "python",
      "pygments_lexer": "ipython3",
      "version": "3.11.3"
    },
    "vscode": {
      "interpreter": {
        "hash": "26de051ba29f2982a8de78e945f0abaf191376122a1563185a90213a26c5da77"
      }
    }
  },
  "nbformat": 4,
  "nbformat_minor": 5
}
